{
 "cells": [
  {
   "cell_type": "code",
   "execution_count": null,
   "metadata": {},
   "outputs": [],
   "source": [
    "max_iter = 300\n",
    "convergence_iter = 15\n",
    "random_state = 5\n",
    "damping = 0.5 # range [0.5, 1.0)\n",
    "preferences = None # array-like of shape (n_samples,)\n"
   ]
  },
  {
   "cell_type": "code",
   "execution_count": null,
   "metadata": {},
   "outputs": [],
   "source": [
    "import numpy as np"
   ]
  },
  {
   "cell_type": "code",
   "execution_count": null,
   "metadata": {},
   "outputs": [],
   "source": [
    "def negative_squared_distance(x: np.ndarray, y: np.ndarray) -> float:\n",
    "    return - np.power(np.linalg.norm(x - y), 2)"
   ]
  },
  {
   "cell_type": "code",
   "execution_count": null,
   "metadata": {},
   "outputs": [],
   "source": [
    "def calculate_similarity_matrix(X: np.ndarray) -> np.ndarray:\n",
    "    return np.array([\n",
    "        [\n",
    "            negative_squared_distance(x, y) for x in X\n",
    "        ]\n",
    "        for y in X\n",
    "    ])"
   ]
  },
  {
   "cell_type": "code",
   "execution_count": null,
   "metadata": {},
   "outputs": [],
   "source": [
    "def calculate_responsibility_matrix(similarity_matrix: np.ndarray, availability_matrix: np.ndarray) -> np.ndarray:\n",
    "    l = len(similarity_matrix)\n",
    "    new_responsibility_matrix = np.zeros((l, l))\n",
    "\n",
    "    for i in range(l):\n",
    "        for j in range(l):\n",
    "            m = max([availability_matrix[i][k] + similarity_matrix[i][k] for k in range(l) if k != j])\n",
    "            new_responsibility_matrix[i][j] = similarity_matrix[i][j] - m\n",
    "\n",
    "    return new_responsibility_matrix"
   ]
  },
  {
   "cell_type": "code",
   "execution_count": null,
   "metadata": {},
   "outputs": [],
   "source": [
    "def calculate_availability_matrix(responsibility_matrix: np.ndarray) -> np.ndarray:\n",
    "    l = len(responsibility_matrix)\n",
    "    new_availability_matrix = np.zeros((l, l))\n",
    "\n",
    "    for i in range(l):\n",
    "        for j in range(l):\n",
    "            if i != j:\n",
    "                m = sum([max(0, responsibility_matrix[k][j]) for k in range(l) if k != i and k != j])\n",
    "                new_availability_matrix[i][j] = min(0, responsibility_matrix[j][j] + m)\n",
    "            else:\n",
    "                m = sum([max(0, responsibility_matrix[k][j]) for k in range(l) if k != j])\n",
    "                new_availability_matrix[i][i] = m\n",
    "    return new_availability_matrix"
   ]
  },
  {
   "cell_type": "code",
   "execution_count": null,
   "metadata": {},
   "outputs": [],
   "source": [
    "X = np.array([[1, 2], [1, 4], [1, 0], [4, 2], [4, 4], [4, 0]])\n",
    "\n",
    "sim_matrix = calculate_similarity_matrix(X)\n",
    "\n",
    "preferences = np.median(sim_matrix)\n",
    "np.fill_diagonal(sim_matrix, preferences)\n",
    "\n",
    "responsiliblity_matrix = np.zeros((len(X), len(X)))\n",
    "availability_matrix = np.zeros((len(X), len(X)))\n",
    "\n",
    "exemplars = np.array([])\n",
    "\n",
    "convergence_iter_counter = 0\n",
    "\n",
    "for _ in range(max_iter):\n",
    "    new_responsiliblity_matrix = calculate_responsibility_matrix(sim_matrix, availability_matrix)\n",
    "    \n",
    "    new_availability_matrix = calculate_availability_matrix(responsiliblity_matrix) # calculate with new responsibility matrix?\n",
    "\n",
    "    responsiliblity_matrix = damping * responsiliblity_matrix + (1 - damping) * new_responsiliblity_matrix\n",
    "    availability_matrix = damping * availability_matrix + (1 - damping) * new_availability_matrix\n",
    "\n",
    "    s = responsiliblity_matrix + availability_matrix\n",
    "\n",
    "    new_exemplars = np.where(np.diag(s) > 0)[0]\n",
    "\n",
    "    if np.array_equal(exemplars, new_exemplars):\n",
    "        convergence_iter_counter += 1\n",
    "    else:\n",
    "        convergence_iter_counter = 0\n",
    "        exemplars = new_exemplars\n",
    "\n",
    "    if convergence_iter_counter == convergence_iter:\n",
    "        break\n",
    "\n",
    "exemplar_labels = {exemplar: label for label, exemplar in enumerate(exemplars)}\n",
    "\n",
    "labels = np.full(len(X), -1)\n",
    "\n",
    "for i in range(len(X)):\n",
    "    if i in exemplar_labels:\n",
    "        labels[i] = exemplar_labels[i]\n",
    "    else:\n",
    "        nearest_exemplar = exemplars[np.argmax(sim_matrix[i, exemplars])]\n",
    "        labels[i] = exemplar_labels[nearest_exemplar]\n",
    "\n",
    "labels"
   ]
  },
  {
   "cell_type": "code",
   "execution_count": 1,
   "metadata": {},
   "outputs": [],
   "source": [
    "import numpy as np\n",
    "from mlalgos.cluster import AffinityPropagation\n",
    "\n",
    "clustering = AffinityPropagation(random_state=5)\n",
    "\n",
    "X = np.array([[1, 2], [1, 4], [1, 0], [4, 2], [4, 4], [4, 0]])\n",
    "\n",
    "clustering.fit(X)"
   ]
  },
  {
   "cell_type": "code",
   "execution_count": 2,
   "metadata": {},
   "outputs": [
    {
     "data": {
      "text/plain": [
       "array([[1, 2],\n",
       "       [4, 2]])"
      ]
     },
     "execution_count": 2,
     "metadata": {},
     "output_type": "execute_result"
    }
   ],
   "source": [
    "clustering.cluster_centers"
   ]
  },
  {
   "cell_type": "code",
   "execution_count": 3,
   "metadata": {},
   "outputs": [
    {
     "data": {
      "text/plain": [
       "array([0, 0, 0, 1, 1, 1])"
      ]
     },
     "execution_count": 3,
     "metadata": {},
     "output_type": "execute_result"
    }
   ],
   "source": [
    "clustering.labels"
   ]
  },
  {
   "cell_type": "code",
   "execution_count": 4,
   "metadata": {},
   "outputs": [
    {
     "data": {
      "text/plain": [
       "array([0, 1])"
      ]
     },
     "execution_count": 4,
     "metadata": {},
     "output_type": "execute_result"
    }
   ],
   "source": [
    "clustering.predict([[0, 0], [4, 4]])"
   ]
  }
 ],
 "metadata": {
  "kernelspec": {
   "display_name": "Python 3.11.6 64-bit",
   "language": "python",
   "name": "python3"
  },
  "language_info": {
   "codemirror_mode": {
    "name": "ipython",
    "version": 3
   },
   "file_extension": ".py",
   "mimetype": "text/x-python",
   "name": "python",
   "nbconvert_exporter": "python",
   "pygments_lexer": "ipython3",
   "version": "3.11.6"
  },
  "orig_nbformat": 4,
  "vscode": {
   "interpreter": {
    "hash": "aee8b7b246df8f9039afb4144a1f6fd8d2ca17a180786b69acc140d282b71a49"
   }
  }
 },
 "nbformat": 4,
 "nbformat_minor": 2
}
