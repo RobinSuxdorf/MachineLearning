{
 "cells": [
  {
   "cell_type": "code",
   "execution_count": 1,
   "metadata": {},
   "outputs": [],
   "source": [
    "import numpy as np\n",
    "from mlalgos.metrics import confusion_matrix\n",
    "\n",
    "y_true = np.array([0, 0, 1, 1])\n",
    "y_scores = np.array([0.1, 0.4, 0.35, 0.8])\n",
    "\n",
    "expected_precision = np.array([0.5, 0.66666667, 0.5, 1, 1])\n",
    "expected_recall = np.array([1, 1, 0.5, 0.5, 0])\n",
    "expected_thresholds = np.array([0.1 , 0.35, 0.4 , 0.8])"
   ]
  },
  {
   "cell_type": "code",
   "execution_count": 4,
   "metadata": {},
   "outputs": [],
   "source": [
    "from typing import Optional\n",
    "import numpy as np\n",
    "\n",
    "from mlalgos.metrics import confusion_matrix\n",
    "\n",
    "def precision_recall_curve(y_true: np.ndarray, y_scores: np.ndarray, pos_label: Optional[int] = None) -> tuple[np.ndarray, np.ndarray, np.ndarray]:\n",
    "    if not pos_label:\n",
    "        # check whether y_true is in {-1, 1} or {0, 1}, otherwise raise a value error\n",
    "        pass\n",
    "\n",
    "    precision: list[float] = []\n",
    "    recall: list[float] = []\n",
    "    thresholds = np.sort(y_scores)\n",
    "\n",
    "    for threshold in thresholds:\n",
    "        predictions = np.array([1 if score >= threshold else 0 for score in y_scores]) # use pos_label\n",
    "\n",
    "        cf_matrix = confusion_matrix(y_true, predictions, class_labels=[1, 0]) # use pos_label\n",
    "\n",
    "        tp = cf_matrix[0][0]\n",
    "        fp = cf_matrix[1][0]\n",
    "        fn = cf_matrix[0][1]\n",
    "\n",
    "        precision_value = tp / (tp + fp)\n",
    "        recall_value = tp / (tp + fn)\n",
    "\n",
    "        precision.append(precision_value)\n",
    "        recall.append(recall_value)\n",
    "\n",
    "    precision.append(1)\n",
    "    recall.append(0)\n",
    "\n",
    "    precision = np.asarray(precision)\n",
    "    recall = np.asarray(recall)\n",
    "\n",
    "    return precision, recall, thresholds"
   ]
  },
  {
   "cell_type": "code",
   "execution_count": 5,
   "metadata": {},
   "outputs": [
    {
     "name": "stdout",
     "output_type": "stream",
     "text": [
      "[0.5        0.66666667 0.5        1.         1.        ]\n",
      "[1.  1.  0.5 0.5 0. ]\n",
      "[0.1  0.35 0.4  0.8 ]\n"
     ]
    },
    {
     "data": {
      "text/plain": [
       "[<matplotlib.lines.Line2D at 0x10d53d210>]"
      ]
     },
     "execution_count": 5,
     "metadata": {},
     "output_type": "execute_result"
    },
    {
     "data": {
      "image/png": "[encoded data removed]",
      "text/plain": [
       "<Figure size 640x480 with 1 Axes>"
      ]
     },
     "metadata": {},
     "output_type": "display_data"
    }
   ],
   "source": [
    "precision, recall, thresholds = precision_recall_curve(y_true, y_scores)\n",
    "\n",
    "print(precision)\n",
    "print(recall)\n",
    "print(thresholds)\n",
    "\n",
    "import matplotlib.pyplot as plt\n",
    "\n",
    "plt.plot(recall, precision)"
   ]
  },
  {
   "cell_type": "code",
   "execution_count": null,
   "metadata": {},
   "outputs": [],
   "source": [
    "y_scores = np.array([\n",
    "    0.99, 0.98, 0.97, 0.96, 0.95, 0.94, 0.93, 0.92, 0.91, 0.90, 0.89,\n",
    "    0.88, 0.87, 0.86, 0.85, 0.84, 0.83, 0.82, 0.81, 0.80, 0.79,\n",
    "    0.78, 0.77, 0.76, 0.75, 0.74, 0.73, 0.72, 0.71, 0.70, 0.69,\n",
    "    0.68, 0.67, 0.66, 0.65, 0.64, 0.63, 0.62, 0.61, 0.60, 0.59,\n",
    "    0.58, 0.57, 0.56, 0.55, 0.54, 0.53, 0.52, 0.51, 0.50, 0.49,\n",
    "    0.48, 0.47, 0.46, 0.45, 0.44, 0.43, 0.42, 0.41, 0.40, 0.39,\n",
    "    0.38, 0.37, 0.36, 0.35, 0.34, 0.33, 0.32, 0.31, 0.30, 0.29,\n",
    "    0.28, 0.27, 0.26, 0.25, 0.24, 0.23, 0.22, 0.21, 0.20, 0.19,\n",
    "    0.18, 0.17, 0.16, 0.15, 0.14, 0.13, 0.12, 0.11, 0.10, 0.09,\n",
    "    0.08, 0.07, 0.06, 0.05, 0.04, 0.03, 0.02, 0.01, 0.00\n",
    "])\n",
    "\n",
    "y_true = np.array([\n",
    "    1, 1, 0, 1, 0, 1, 0, 1, 0, 1,\n",
    "    0, 1, 0, 1, 0, 1, 0, 1, 0, 1,\n",
    "    0, 1, 0, 1, 0, 1, 0, 1, 0, 1,\n",
    "    0, 1, 0, 1, 0, 1, 0, 1, 0, 1,\n",
    "    0, 1, 0, 1, 0, 1, 0, 1, 0, 1,\n",
    "    0, 1, 0, 1, 0, 1, 0, 1, 0, 1,\n",
    "    0, 1, 0, 1, 0, 1, 0, 1, 0, 1,\n",
    "    0, 1, 0, 1, 0, 1, 0, 1, 0, 1,\n",
    "    0, 1, 0, 1, 0, 1, 0, 1, 0, 1,\n",
    "    0, 1, 0, 1, 0, 1, 0, 1, 0, 1\n",
    "])\n"
   ]
  },
  {
   "cell_type": "code",
   "execution_count": null,
   "metadata": {},
   "outputs": [],
   "source": [
    "from sklearn.metrics import precision_recall_curve\n",
    "\n",
    "precision, recall, thresholds = precision_recall_curve(y_true, y_scores)\n",
    "precision2, recall2, thresholds2 = precision_recall_curve2(y_true, y_scores)"
   ]
  },
  {
   "cell_type": "code",
   "execution_count": null,
   "metadata": {},
   "outputs": [],
   "source": [
    "print(np.array_equal(precision, precision2))\n",
    "print(np.array_equal(recall, recall2))\n",
    "print(np.array_equal(thresholds, thresholds2))"
   ]
  }
 ],
 "metadata": {
  "kernelspec": {
   "display_name": "Python 3.11.6 64-bit",
   "language": "python",
   "name": "python3"
  },
  "language_info": {
   "codemirror_mode": {
    "name": "ipython",
    "version": 3
   },
   "file_extension": ".py",
   "mimetype": "text/x-python",
   "name": "python",
   "nbconvert_exporter": "python",
   "pygments_lexer": "ipython3",
   "version": "3.11.6"
  },
  "orig_nbformat": 4,
  "vscode": {
   "interpreter": {
    "hash": "aee8b7b246df8f9039afb4144a1f6fd8d2ca17a180786b69acc140d282b71a49"
   }
  }
 },
 "nbformat": 4,
 "nbformat_minor": 2
}
