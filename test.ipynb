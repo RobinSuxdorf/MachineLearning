{
 "cells": [
  {
   "cell_type": "code",
   "execution_count": 1,
   "metadata": {},
   "outputs": [
    {
     "name": "stdout",
     "output_type": "stream",
     "text": [
      "     Class  Precision     Recall   F1-Score    Support\n",
      "         0       0.67       1.00       0.80          2\n",
      "         1       0.00       0.00       0.00          1\n",
      "         2       0.67       0.67       0.67          3\n",
      "  Accuracy                             0.67          6\n",
      "0.6666666666666666\n"
     ]
    }
   ],
   "source": [
    "from metrics import accuracy_score, ClassificationReport\n",
    "\n",
    "y_true = [2, 0, 2, 2, 0, 1]\n",
    "y_pred = [0, 0, 2, 2, 0, 2]\n",
    "y_pred2 = [\"bird\", \"bird\", \"cat\", \"cat\", \"bird\", \"cat\"]\n",
    "print(ClassificationReport(y_true, y_pred))\n",
    "print(accuracy_score(y_true, y_pred))"
   ]
  }
 ],
 "metadata": {
  "kernelspec": {
   "display_name": "Python 3.11.6 64-bit",
   "language": "python",
   "name": "python3"
  },
  "language_info": {
   "codemirror_mode": {
    "name": "ipython",
    "version": 3
   },
   "file_extension": ".py",
   "mimetype": "text/x-python",
   "name": "python",
   "nbconvert_exporter": "python",
   "pygments_lexer": "ipython3",
   "version": "3.11.6"
  },
  "orig_nbformat": 4,
  "vscode": {
   "interpreter": {
    "hash": "aee8b7b246df8f9039afb4144a1f6fd8d2ca17a180786b69acc140d282b71a49"
   }
  }
 },
 "nbformat": 4,
 "nbformat_minor": 2
}
