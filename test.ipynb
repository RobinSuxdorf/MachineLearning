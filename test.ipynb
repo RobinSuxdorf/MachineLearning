{
 "cells": [
  {
   "cell_type": "code",
   "execution_count": 1,
   "metadata": {},
   "outputs": [],
   "source": [
    "import numpy as np"
   ]
  },
  {
   "cell_type": "markdown",
   "metadata": {},
   "source": [
    "## StandardScaler\n",
    "\n",
    "- with_mean: bool = True\n",
    "- with_std: bool = True\n",
    "\n",
    "- mean: Optional[np.ndarray]\n",
    "- std: Optional[np.ndarray] or 1 if variance is 0\n",
    "\n",
    "- fit\n",
    "- transform\n",
    "- fit_transform\n",
    "- inverse_transform"
   ]
  },
  {
   "cell_type": "code",
   "execution_count": 2,
   "metadata": {},
   "outputs": [
    {
     "name": "stdout",
     "output_type": "stream",
     "text": [
      "[[-1. -1.]\n",
      " [-1. -1.]\n",
      " [ 1.  1.]\n",
      " [ 1.  1.]]\n",
      "[3. 3.]\n",
      "[2. 2.]\n"
     ]
    }
   ],
   "source": [
    "X = [[0, 0], [0, 0], [1, 1], [1, 1]]\n",
    "\n",
    "mean = np.mean(X, axis=0)\n",
    "\n",
    "std = np.std(X, axis=0)\n",
    "\n",
    "print((X - mean) / std)\n",
    "\n",
    "print(([2, 2] - mean) / std)\n",
    "\n",
    "print([3, 3] * std + mean)"
   ]
  },
  {
   "cell_type": "markdown",
   "metadata": {},
   "source": [
    "## MinMaxScaler\n",
    "\n",
    "- feature_range # desired range of transformed data = (0, 1)\n",
    "\n",
    "- fit\n",
    "- transform\n",
    "- fit_transform\n",
    "- inverse_transform"
   ]
  },
  {
   "cell_type": "code",
   "execution_count": 3,
   "metadata": {},
   "outputs": [
    {
     "data": {
      "text/plain": [
       "array([[0.  , 0.  ],\n",
       "       [0.25, 0.25],\n",
       "       [0.5 , 0.5 ],\n",
       "       [1.  , 1.  ]])"
      ]
     },
     "execution_count": 3,
     "metadata": {},
     "output_type": "execute_result"
    }
   ],
   "source": [
    "X = np.array([[-1, 2], [-0.5, 6], [0, 10], [1, 18]])\n",
    "\n",
    "X_std = (X - X.min(axis=0)) / (X.max(axis=0) - X.min(axis=0))\n",
    "\n",
    "X_std"
   ]
  }
 ],
 "metadata": {
  "language_info": {
   "name": "python"
  },
  "orig_nbformat": 4
 },
 "nbformat": 4,
 "nbformat_minor": 2
}
