{
 "cells": [
  {
   "cell_type": "code",
   "execution_count": null,
   "metadata": {},
   "outputs": [],
   "source": [
    "import numpy as np\n",
    "import pandas as pd\n",
    "\n",
    "data = [\n",
    "    (\"Rainy\", \"Hot\", \"High\", \"f\", \"no\"),\n",
    "    (\"Rainy\", \"Hot\", \"High\", \"t\", \"no\"),\n",
    "    (\"Overcast\", \"Hot\", \"High\", \"f\", \"yes\"),\n",
    "    (\"Sunny\", \"Mild\", \"High\", \"f\", \"yes\"),\n",
    "    (\"Sunny\", \"Cool\", \"Normal\", \"f\", \"yes\"),\n",
    "    (\"Sunny\", \"Cool\", \"Normal\", \"t\", \"no\"),\n",
    "    (\"Overcast\", \"Cool\", \"Normal\", \"t\", \"yes\"),\n",
    "    (\"Rainy\", \"Mild\", \"High\", \"f\", \"no\"),\n",
    "    (\"Rainy\", \"Cool\", \"Normal\", \"f\", \"yes\"),\n",
    "    (\"Sunny\", \"Mild\", \"Normal\", \"f\", \"yes\"),\n",
    "    (\"Rainy\", \"Mild\", \"Normal\", \"t\", \"yes\"),\n",
    "    (\"Overcast\", \"Mild\", \"High\", \"t\", \"yes\"),\n",
    "    (\"Overcast\", \"Hot\", \"Normal\", \"f\", \"yes\"),\n",
    "    (\"Sunny\", \"Mild\", \"High\", \"t\", \"no\")\n",
    "]\n",
    "\n",
    "df = pd.DataFrame(data, columns=[\"Outlook\", \"Temp\", \"Humidity\", \"Windy\", \"Play\"])\n",
    "\n",
    "df"
   ]
  },
  {
   "cell_type": "code",
   "execution_count": null,
   "metadata": {},
   "outputs": [],
   "source": [
    "from mlalgos.preprocessing import split_features_and_target\n",
    "from mlalgos.classifiers import NaiveBayes\n",
    "\n",
    "X, y = split_features_and_target(df, \"Play\")\n",
    "\n",
    "clf = NaiveBayes()\n",
    "\n",
    "clf.fit(X, y)"
   ]
  },
  {
   "cell_type": "code",
   "execution_count": null,
   "metadata": {},
   "outputs": [],
   "source": [
    "from mlalgos.metrics import accuracy_score, ClassificationReport\n",
    "\n",
    "X_test = [\n",
    "    [\"Rainy\", \"Mild\", \"Normal\", \"t\"],\n",
    "    [\"Overcast\", \"Cool\", \"Normal\", \"t\"],\n",
    "    [\"Sunny\", \"Hot\", \"High\", \"t\"]\n",
    "]\n",
    "\n",
    "results = clf.predict(X_test)\n",
    "labels = [\"yes\", \"yes\", \"no\"]\n",
    "\n",
    "report = ClassificationReport(labels, results)\n",
    "\n",
    "report"
   ]
  },
  {
   "cell_type": "code",
   "execution_count": 1,
   "metadata": {},
   "outputs": [],
   "source": [
    "from mlalgos.cluster import KMeans\n",
    "import numpy as np\n",
    "\n",
    "X = np.array([[1, 2], [1, 4], [1, 0], [10, 2], [10, 4], [10, 0]])\n",
    "\n",
    "kmeans = KMeans(n_clusters=2)\n",
    "\n",
    "kmeans.fit(X)\n",
    "\n",
    "kmeans.predict([[0, 0], [12, 3]])"
   ]
  }
 ],
 "metadata": {
  "kernelspec": {
   "display_name": "Python 3.11.6 64-bit",
   "language": "python",
   "name": "python3"
  },
  "language_info": {
   "codemirror_mode": {
    "name": "ipython",
    "version": 3
   },
   "file_extension": ".py",
   "mimetype": "text/x-python",
   "name": "python",
   "nbconvert_exporter": "python",
   "pygments_lexer": "ipython3",
   "version": "3.11.6"
  },
  "orig_nbformat": 4,
  "vscode": {
   "interpreter": {
    "hash": "aee8b7b246df8f9039afb4144a1f6fd8d2ca17a180786b69acc140d282b71a49"
   }
  }
 },
 "nbformat": 4,
 "nbformat_minor": 2
}
