{
 "cells": [
  {
   "cell_type": "code",
   "execution_count": 1,
   "metadata": {},
   "outputs": [],
   "source": [
    "import numpy as np"
   ]
  },
  {
   "cell_type": "markdown",
   "metadata": {},
   "source": [
    "## StandardScaler\n",
    "\n",
    "- with_mean: bool = True\n",
    "- with_std: bool = True\n",
    "\n",
    "- mean: Optional[np.ndarray]\n",
    "- std: Optional[np.ndarray] or 1 if variance is 0\n",
    "\n",
    "- fit\n",
    "- transform\n",
    "- fit_transform\n",
    "- inverse_transform"
   ]
  },
  {
   "cell_type": "code",
   "execution_count": 2,
   "metadata": {},
   "outputs": [
    {
     "name": "stdout",
     "output_type": "stream",
     "text": [
      "[[-1. -1.]\n",
      " [-1. -1.]\n",
      " [ 1.  1.]\n",
      " [ 1.  1.]]\n",
      "[3. 3.]\n",
      "[2. 2.]\n"
     ]
    }
   ],
   "source": [
    "X = [[0, 0], [0, 0], [1, 1], [1, 1]]\n",
    "\n",
    "mean = np.mean(X, axis=0)\n",
    "\n",
    "std = np.std(X, axis=0)\n",
    "\n",
    "print((X - mean) / std)\n",
    "\n",
    "print(([2, 2] - mean) / std)\n",
    "\n",
    "print([3, 3] * std + mean)"
   ]
  },
  {
   "cell_type": "markdown",
   "metadata": {},
   "source": [
    "## MinMaxScaler\n",
    "\n",
    "- feature_range # desired range of transformed data = (0, 1)\n",
    "\n",
    "- fit\n",
    "- transform\n",
    "- fit_transform\n",
    "- inverse_transform"
   ]
  },
  {
   "cell_type": "code",
   "execution_count": 9,
   "metadata": {},
   "outputs": [
    {
     "data": {
      "text/plain": [
       "array([[4. , 4. ],\n",
       "       [4.5, 4.5],\n",
       "       [5. , 5. ],\n",
       "       [6. , 6. ]])"
      ]
     },
     "execution_count": 9,
     "metadata": {},
     "output_type": "execute_result"
    }
   ],
   "source": [
    "feature_range = (4, 6)\n",
    "\n",
    "min, max = feature_range\n",
    "\n",
    "X = np.array([[-1, 2], [-0.5, 6], [0, 10], [1, 18]])\n",
    "\n",
    "X_std = (X - X.min(axis=0)) / (X.max(axis=0) - X.min(axis=0))\n",
    "\n",
    "X_scaled = X_std * (max - min) + min\n",
    "\n",
    "X_scaled"
   ]
  }
 ],
 "metadata": {
  "language_info": {
   "name": "python"
  },
  "orig_nbformat": 4
 },
 "nbformat": 4,
 "nbformat_minor": 2
}
