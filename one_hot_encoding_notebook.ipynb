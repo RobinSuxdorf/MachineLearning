{
 "cells": [
  {
   "cell_type": "markdown",
   "metadata": {},
   "source": [
    "handle_unknown: \"error\", \"ignore\""
   ]
  },
  {
   "cell_type": "code",
   "execution_count": 1,
   "metadata": {},
   "outputs": [],
   "source": [
    "from typing import Any\n",
    "import numpy as np"
   ]
  },
  {
   "cell_type": "code",
   "execution_count": 2,
   "metadata": {},
   "outputs": [],
   "source": [
    "class OneHotEncoder():\n",
    "    def __init__(self) -> None:\n",
    "        self._value_to_idx: dict[Any, int] = {}\n",
    "        self._idx_to_value: dict[int, Any] = {}\n",
    "        self._dimension: int = 0\n",
    "\n",
    "    def fit(self, X: np.ndarray) -> None:\n",
    "        if X.ndim == 1:\n",
    "            X = X.reshape(-1, 1)\n",
    "\n",
    "        unique_values = np.unique(X)\n",
    "        self._value_to_idx = {value: idx for idx, value in enumerate(unique_values)}\n",
    "        self._idx_to_value = {idx: value for value, idx in self._value_to_idx.items()}\n",
    "        self._dimension = len(self._value_to_idx)\n",
    "\n",
    "\n",
    "\n",
    "    def _value_to_one_hot(self, values: list[Any]) -> np.ndarray:\n",
    "        one_hot = np.zeros(self._dimension)\n",
    "        ids = [self._value_to_idx[value] for value in values]\n",
    "        one_hot[ids] = 1\n",
    "        return one_hot\n",
    "\n",
    "    def transform(self, X: np.ndarray) -> np.ndarray:\n",
    "        if X.ndim == 1:\n",
    "            X = X.reshape(-1, 1)\n",
    "        return np.array([self._value_to_one_hot(row) for row in X])\n",
    "\n",
    "    def fit_transform(self, X: np.ndarray) -> np.ndarray:\n",
    "        self.fit(X)\n",
    "        return self.transform(X)\n",
    "\n",
    "    def inverse_transform(self, X: np.ndarray) -> np.ndarray:\n",
    "        if X.ndim == 1:\n",
    "            ids = np.where(X == 1)[0]\n",
    "            return np.array([self._idx_to_value[idx] for idx in ids])\n",
    "\n",
    "        print(f\"{X=}\")\n",
    "        \n",
    "        inv = []\n",
    "        for row in X:\n",
    "            ids = np.where(row == 1)[0]\n",
    "            values = [self._idx_to_value[idx] for idx in ids]\n",
    "            inv.append(values)\n",
    "\n",
    "        print(f\"{inv}\")\n",
    "\n",
    "        return np.array(inv)"
   ]
  },
  {
   "cell_type": "code",
   "execution_count": 3,
   "metadata": {},
   "outputs": [
    {
     "name": "stdout",
     "output_type": "stream",
     "text": [
      "[[1. 0. 0.]\n",
      " [0. 1. 0.]\n",
      " [0. 0. 1.]\n",
      " [0. 1. 0.]\n",
      " [1. 0. 0.]]\n"
     ]
    },
    {
     "data": {
      "text/plain": [
       "array([1])"
      ]
     },
     "execution_count": 3,
     "metadata": {},
     "output_type": "execute_result"
    }
   ],
   "source": [
    "X = np.array([0, 1, 2, 1, 0])\n",
    "\n",
    "encoder = OneHotEncoder()\n",
    "\n",
    "print(encoder.fit_transform(X))\n",
    "\n",
    "encoder.inverse_transform(np.array([0, 1, 0]))\n"
   ]
  },
  {
   "cell_type": "code",
   "execution_count": 4,
   "metadata": {},
   "outputs": [
    {
     "name": "stdout",
     "output_type": "stream",
     "text": [
      "X=array([[1, 0, 0],\n",
      "       [0, 1, 0]])\n",
      "[[0], [1]]\n"
     ]
    },
    {
     "data": {
      "text/plain": [
       "array([[0],\n",
       "       [1]])"
      ]
     },
     "execution_count": 4,
     "metadata": {},
     "output_type": "execute_result"
    }
   ],
   "source": [
    "encoder.inverse_transform(np.array([[1, 0, 0], [0, 1, 0]]))"
   ]
  },
  {
   "cell_type": "code",
   "execution_count": 5,
   "metadata": {},
   "outputs": [
    {
     "name": "stdout",
     "output_type": "stream",
     "text": [
      "[[1. 0. 0.]\n",
      " [0. 1. 0.]\n",
      " [0. 0. 1.]\n",
      " [0. 1. 0.]\n",
      " [1. 0. 0.]]\n"
     ]
    },
    {
     "data": {
      "text/plain": [
       "array(['cat'], dtype='<U3')"
      ]
     },
     "execution_count": 5,
     "metadata": {},
     "output_type": "execute_result"
    }
   ],
   "source": [
    "X = np.array([\"bird\", \"cat\", \"dog\", \"cat\", \"bird\"])\n",
    "\n",
    "encoder = OneHotEncoder()\n",
    "\n",
    "encoder.fit(X)\n",
    "print(encoder.transform(X))\n",
    "\n",
    "encoder.inverse_transform(np.array([0, 1, 0]))"
   ]
  },
  {
   "cell_type": "code",
   "execution_count": 6,
   "metadata": {},
   "outputs": [
    {
     "name": "stdout",
     "output_type": "stream",
     "text": [
      "X=array([[1, 0, 0],\n",
      "       [0, 1, 0]])\n",
      "[['bird'], ['cat']]\n"
     ]
    },
    {
     "data": {
      "text/plain": [
       "array([['bird'],\n",
       "       ['cat']], dtype='<U4')"
      ]
     },
     "execution_count": 6,
     "metadata": {},
     "output_type": "execute_result"
    }
   ],
   "source": [
    "encoder.inverse_transform(np.array([[1, 0, 0], [0, 1, 0]]))"
   ]
  },
  {
   "cell_type": "code",
   "execution_count": 7,
   "metadata": {},
   "outputs": [
    {
     "name": "stdout",
     "output_type": "stream",
     "text": [
      "[[1. 0. 0. 0. 1.]\n",
      " [0. 0. 1. 1. 0.]\n",
      " [0. 1. 0. 1. 0.]]\n"
     ]
    },
    {
     "data": {
      "text/plain": [
       "array(['2', 'Female'], dtype='<U6')"
      ]
     },
     "execution_count": 7,
     "metadata": {},
     "output_type": "execute_result"
    }
   ],
   "source": [
    "X = np.array([['Male', 1], ['Female', 3], ['Female', 2]])\n",
    "\n",
    "encoder = OneHotEncoder()\n",
    "\n",
    "encoder.fit(X)\n",
    "\n",
    "print(encoder.transform(X))\n",
    "\n",
    "encoder.inverse_transform(np.array([0, 1, 0, 1, 0]))"
   ]
  },
  {
   "cell_type": "code",
   "execution_count": 8,
   "metadata": {},
   "outputs": [
    {
     "name": "stdout",
     "output_type": "stream",
     "text": [
      "X=array([[0, 1, 1, 0, 0],\n",
      "       [0, 0, 0, 1, 0]])\n",
      "[['2', '3'], ['Female']]\n"
     ]
    },
    {
     "ename": "ValueError",
     "evalue": "setting an array element with a sequence. The requested array has an inhomogeneous shape after 1 dimensions. The detected shape was (2,) + inhomogeneous part.",
     "output_type": "error",
     "traceback": [
      "\u001b[0;31m---------------------------------------------------------------------------\u001b[0m",
      "\u001b[0;31mValueError\u001b[0m                                Traceback (most recent call last)",
      "Cell \u001b[0;32mIn[8], line 1\u001b[0m\n\u001b[0;32m----> 1\u001b[0m \u001b[43mencoder\u001b[49m\u001b[38;5;241;43m.\u001b[39;49m\u001b[43minverse_transform\u001b[49m\u001b[43m(\u001b[49m\u001b[43mnp\u001b[49m\u001b[38;5;241;43m.\u001b[39;49m\u001b[43marray\u001b[49m\u001b[43m(\u001b[49m\u001b[43m[\u001b[49m\u001b[43m[\u001b[49m\u001b[38;5;241;43m0\u001b[39;49m\u001b[43m,\u001b[49m\u001b[43m \u001b[49m\u001b[38;5;241;43m1\u001b[39;49m\u001b[43m,\u001b[49m\u001b[43m \u001b[49m\u001b[38;5;241;43m1\u001b[39;49m\u001b[43m,\u001b[49m\u001b[43m \u001b[49m\u001b[38;5;241;43m0\u001b[39;49m\u001b[43m,\u001b[49m\u001b[43m \u001b[49m\u001b[38;5;241;43m0\u001b[39;49m\u001b[43m]\u001b[49m\u001b[43m,\u001b[49m\u001b[43m \u001b[49m\u001b[43m[\u001b[49m\u001b[38;5;241;43m0\u001b[39;49m\u001b[43m,\u001b[49m\u001b[43m \u001b[49m\u001b[38;5;241;43m0\u001b[39;49m\u001b[43m,\u001b[49m\u001b[43m \u001b[49m\u001b[38;5;241;43m0\u001b[39;49m\u001b[43m,\u001b[49m\u001b[43m \u001b[49m\u001b[38;5;241;43m1\u001b[39;49m\u001b[43m,\u001b[49m\u001b[43m \u001b[49m\u001b[38;5;241;43m0\u001b[39;49m\u001b[43m]\u001b[49m\u001b[43m]\u001b[49m\u001b[43m)\u001b[49m\u001b[43m)\u001b[49m\n",
      "Cell \u001b[0;32mIn[2], line 48\u001b[0m, in \u001b[0;36mOneHotEncoder.inverse_transform\u001b[0;34m(self, X)\u001b[0m\n\u001b[1;32m     44\u001b[0m     inv\u001b[38;5;241m.\u001b[39mappend(values)\n\u001b[1;32m     46\u001b[0m \u001b[38;5;28mprint\u001b[39m(\u001b[38;5;124mf\u001b[39m\u001b[38;5;124m\"\u001b[39m\u001b[38;5;132;01m{\u001b[39;00minv\u001b[38;5;132;01m}\u001b[39;00m\u001b[38;5;124m\"\u001b[39m)\n\u001b[0;32m---> 48\u001b[0m \u001b[38;5;28;01mreturn\u001b[39;00m np\u001b[38;5;241m.\u001b[39marray(inv)\n",
      "\u001b[0;31mValueError\u001b[0m: setting an array element with a sequence. The requested array has an inhomogeneous shape after 1 dimensions. The detected shape was (2,) + inhomogeneous part."
     ]
    }
   ],
   "source": [
    "encoder.inverse_transform(np.array([[0, 1, 1, 0, 0], [0, 0, 0, 1, 0]]))"
   ]
  }
 ],
 "metadata": {
  "kernelspec": {
   "display_name": "Python 3.11.6 64-bit",
   "language": "python",
   "name": "python3"
  },
  "language_info": {
   "codemirror_mode": {
    "name": "ipython",
    "version": 3
   },
   "file_extension": ".py",
   "mimetype": "text/x-python",
   "name": "python",
   "nbconvert_exporter": "python",
   "pygments_lexer": "ipython3",
   "version": "3.11.6"
  },
  "orig_nbformat": 4,
  "vscode": {
   "interpreter": {
    "hash": "aee8b7b246df8f9039afb4144a1f6fd8d2ca17a180786b69acc140d282b71a49"
   }
  }
 },
 "nbformat": 4,
 "nbformat_minor": 2
}
