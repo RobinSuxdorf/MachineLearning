{
 "cells": [
  {
   "cell_type": "markdown",
   "metadata": {},
   "source": [
    "handle_unknown: \"error\", \"ignore\""
   ]
  },
  {
   "cell_type": "code",
   "execution_count": null,
   "metadata": {},
   "outputs": [],
   "source": [
    "from typing import Any\n",
    "import numpy as np"
   ]
  },
  {
   "cell_type": "code",
   "execution_count": null,
   "metadata": {},
   "outputs": [],
   "source": [
    "class OneHotEncoder():\n",
    "    def __init__(self) -> None:\n",
    "        self._value_to_idx: dict[Any, int] = {}\n",
    "        self._dimension: int = 0\n",
    "\n",
    "    def fit(self, X: np.ndarray) -> None:\n",
    "        unique_values = np.unique(X)\n",
    "\n",
    "        self._value_to_idx = {value: idx for idx, value in enumerate(unique_values)}\n",
    "        self._dimension = len(unique_values)\n",
    "\n",
    "    def _value_to_one_hot(self, value: Any) -> np.ndarray:\n",
    "        return np.array([1 if i == self._value_to_idx[value] else 0 for i in range(self._dimension)])\n",
    "\n",
    "    def transform(self, X: np.ndarray) -> np.ndarray:\n",
    "        return np.array([self._value_to_one_hot(value) for value in X])\n",
    "\n",
    "    def fit_transform(self, X: np.ndarray) -> np.ndarray:\n",
    "        self.fit(X)\n",
    "        return self.transform(X)"
   ]
  },
  {
   "cell_type": "code",
   "execution_count": null,
   "metadata": {},
   "outputs": [],
   "source": [
    "X = np.array([0, 1, 2, 1, 0])\n",
    "\n",
    "encoder = OneHotEncoder()\n",
    "\n",
    "encoder.fit_transform(X)\n"
   ]
  },
  {
   "cell_type": "code",
   "execution_count": null,
   "metadata": {},
   "outputs": [],
   "source": [
    "X = np.array([\"bird\", \"cat\", \"dog\", \"cat\", \"bird\"])\n",
    "\n",
    "encoder = OneHotEncoder()\n",
    "\n",
    "encoder.fit(X)\n",
    "encoder.transform(X)"
   ]
  },
  {
   "cell_type": "code",
   "execution_count": 13,
   "metadata": {},
   "outputs": [
    {
     "data": {
      "text/plain": [
       "{'Female': 0, 'Male': 1, 1: 2, 2: 3, 3: 4}"
      ]
     },
     "execution_count": 13,
     "metadata": {},
     "output_type": "execute_result"
    }
   ],
   "source": [
    "from typing import Any\n",
    "import numpy as np\n",
    "\n",
    "X = [['Male', 1], ['Female', 3], ['Female', 2]]\n",
    "\n",
    "categories = [np.unique(col) for col in zip(*X)]\n",
    "\n",
    "value_to_idx: dict[Any, int] = {}\n",
    "\n",
    "idx = 0\n",
    "\n",
    "for cat in categories:\n",
    "    for value in cat:\n",
    "        value_to_idx[value] = idx\n",
    "        idx += 1\n",
    "\n",
    "value_to_idx"
   ]
  }
 ],
 "metadata": {
  "kernelspec": {
   "display_name": "Python 3.11.6 64-bit",
   "language": "python",
   "name": "python3"
  },
  "language_info": {
   "codemirror_mode": {
    "name": "ipython",
    "version": 3
   },
   "file_extension": ".py",
   "mimetype": "text/x-python",
   "name": "python",
   "nbconvert_exporter": "python",
   "pygments_lexer": "ipython3",
   "version": "3.11.6"
  },
  "orig_nbformat": 4,
  "vscode": {
   "interpreter": {
    "hash": "aee8b7b246df8f9039afb4144a1f6fd8d2ca17a180786b69acc140d282b71a49"
   }
  }
 },
 "nbformat": 4,
 "nbformat_minor": 2
}
