{
 "cells": [
  {
   "cell_type": "markdown",
   "metadata": {},
   "source": [
    "# Quantization of embeddings\n",
    "\n",
    "- Difference between x and x_hat\n",
    "- Difference between dot product\n",
    "- Can calculate dot product with x_hat much easier\n",
    "- Growth of Delta\n",
    "- 1-norm of x_hat\n",
    "- Quantization error for rounding\n",
    "- Quantization error for ceiling"
   ]
  },
  {
   "cell_type": "code",
   "execution_count": 1,
   "metadata": {},
   "outputs": [],
   "source": [
    "from typing import Callable\n",
    "import math\n",
    "\n",
    "min_v = -1\n",
    "max_v = 1\n",
    "a = -128\n",
    "b = 127\n",
    "\n",
    "delta = (max_v - min_v) / (b - a)\n",
    "\n",
    "def forward_transformation(x: float, transform: Callable[[float], int] = math.floor) -> int:\n",
    "    x_tilde = a + (b - a) / (max_v - min_v) * (x - min_v)\n",
    "    return transform(x_tilde)\n",
    "\n",
    "def backward_transformation(x: int) -> float:\n",
    "    return (x - a) * (max_v - min_v) / (b - a) + min_v"
   ]
  },
  {
   "cell_type": "code",
   "execution_count": 2,
   "metadata": {},
   "outputs": [],
   "source": [
    "import random\n",
    "import math\n",
    "import numpy as np\n",
    "\n",
    "\n",
    "def pnorm(x: list[float], p: int = 2) -> float:\n",
    "    return math.pow(sum(np.abs(x_i) ** p for x_i in x), 1 / p)\n",
    "\n",
    "def normalize(x: list[float]) -> list[float]:\n",
    "    norm = pnorm(x, 2)\n",
    "    return [x_i / norm for x_i in x]\n",
    "\n",
    "d = 5\n",
    "\n",
    "x = [random.random() for _ in range(d)]\n",
    "y = [random.random() for _ in range(d)]\n",
    "\n",
    "x = normalize(x)\n",
    "y = normalize(y)\n",
    "\n",
    "x_hat = [backward_transformation(forward_transformation(x_i)) for x_i in x]\n",
    "y_hat = [backward_transformation(forward_transformation(y_i)) for y_i in y]"
   ]
  },
  {
   "cell_type": "code",
   "execution_count": 3,
   "metadata": {},
   "outputs": [
    {
     "name": "stdout",
     "output_type": "stream",
     "text": [
      "<x,y> = 0.87700526013309\n",
      "<x_hat,y_hat> =  0.8659900038446751\n",
      "Difference =  0.011015256288414932\n",
      "Error estimation =  0.030326797385620913\n",
      "Error estimation 2 =  0.035383150127639915\n"
     ]
    }
   ],
   "source": [
    "dot_product = np.dot(x, y)\n",
    "dot_product_hat = np.dot(x_hat, y_hat)\n",
    "\n",
    "print(\"<x,y> =\", dot_product)\n",
    "print(\"<x_hat,y_hat> = \", dot_product_hat)\n",
    "\n",
    "print(\"Difference = \", np.abs(dot_product - dot_product_hat))\n",
    "print(\"Error estimation = \", delta * (pnorm(x_hat, 1) + pnorm(y_hat, 1)) + d * delta ** 2)\n",
    "print(\"Error estimation 2 = \", 2 * delta * math.sqrt(d) + d * delta ** 2)"
   ]
  }
 ],
 "metadata": {
  "language_info": {
   "name": "python"
  },
  "orig_nbformat": 4
 },
 "nbformat": 4,
 "nbformat_minor": 2
}
