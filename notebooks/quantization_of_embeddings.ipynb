{
 "cells": [
  {
   "cell_type": "markdown",
   "metadata": {},
   "source": [
    "# Quantization of embeddings\n",
    "## Motivation\n",
    "## Mathematical background\n",
    "\n",
    "- have values in interval [min, max]\n",
    "- transform to integers in range [a, b]\n",
    "\n",
    "$x\\in [min, max]$\n",
    "$\\tilde{x} = a + \\frac{b - a}{max - min}(x - min) = a + \\frac{1}{\\Delta}(x - min)$ mit $\\Delta = \\frac{max - min}{b - a}$\n",
    "- apply round, ceil or floor: $\\overline{x} = round(\\tilde{x})$"
   ]
  },
  {
   "cell_type": "code",
   "execution_count": null,
   "metadata": {},
   "outputs": [],
   "source": [
    "from collections.abc import Callable\n",
    "import math\n",
    "\n",
    "min_v = -1\n",
    "max_v = 1\n",
    "a = -128\n",
    "b = 127\n",
    "\n",
    "delta = (max_v - min_v) / (b - a)\n",
    "\n",
    "d = 5\n",
    "\n",
    "def forward_transformation(x: float, transform: Callable[[float], int] = math.floor) -> int:\n",
    "    x_tilde = a + (b - a) / (max_v - min_v) * (x - min_v)\n",
    "    return transform(x_tilde)"
   ]
  },
  {
   "cell_type": "markdown",
   "metadata": {},
   "source": [
    "backward transformation\n",
    "$\\hat{x} = (\\overline{x} - a) * \\Delta + min$"
   ]
  },
  {
   "cell_type": "code",
   "execution_count": 13,
   "metadata": {},
   "outputs": [],
   "source": [
    "def backward_transformation(x: int) -> float:\n",
    "    return (x - a) * (max_v - min_v) / (b - a) + min_v"
   ]
  },
  {
   "cell_type": "markdown",
   "metadata": {},
   "source": [
    "## Estimation of the quantization error\n",
    "\n",
    "- $\\vert x - \\hat{x}\\vert$\n",
    "- $\\vert \\langle x, y\\rangle - \\langle\\hat{x}, \\hat{y}\\rangle\\vert$"
   ]
  },
  {
   "cell_type": "code",
   "execution_count": 14,
   "metadata": {},
   "outputs": [],
   "source": [
    "import random\n",
    "import math\n",
    "import numpy as np\n",
    "\n",
    "\n",
    "def pnorm(x: list[float], p: int = 2) -> float:\n",
    "    return math.pow(sum(np.abs(x_i) ** p for x_i in x), 1 / p)\n",
    "\n",
    "def normalize(x: list[float]) -> list[float]:\n",
    "    norm = pnorm(x, 2)\n",
    "    return [x_i / norm for x_i in x]\n",
    "\n",
    "x = [random.random() for _ in range(d)]\n",
    "y = [random.random() for _ in range(d)]\n",
    "\n",
    "x = normalize(x)\n",
    "y = normalize(y)\n",
    "\n",
    "x_bar = [forward_transformation(x_i) for x_i in x]\n",
    "y_bar = [forward_transformation(y_i) for y_i in y]\n",
    "\n",
    "x_hat = [backward_transformation(x_i) for x_i in x_bar]\n",
    "y_hat = [backward_transformation(y_i) for y_i in y_bar]"
   ]
  },
  {
   "cell_type": "code",
   "execution_count": 15,
   "metadata": {},
   "outputs": [],
   "source": [
    "integer_dot_product = sum(x_i * y_i for (x_i, y_i) in zip(x_bar, y_bar))\n",
    "\n",
    "dot_product_x_part = min_v * delta * (sum(x_i for x_i in x_bar) - d * a) - a * delta ** 2 * sum(x_i for x_i in x_bar)\n",
    "dot_product_y_part = min_v * delta * (sum(y_i for y_i in y_bar) - d * a) - a * delta ** 2 * sum(y_i for y_i in y_bar)"
   ]
  },
  {
   "cell_type": "code",
   "execution_count": 16,
   "metadata": {},
   "outputs": [
    {
     "name": "stdout",
     "output_type": "stream",
     "text": [
      "<x,y> = 0.6603766820913078\n",
      "<x_hat,y_hat> =  0.6397078046905038\n",
      "Improved calculation:  0.6397078046905023\n",
      "Difference =  0.02066887740080403\n",
      "Error estimation =  0.030265282583621683\n",
      "Error estimation 2 =  0.035383150127639915\n"
     ]
    }
   ],
   "source": [
    "dot_product = np.dot(x, y)\n",
    "dot_product_hat = np.dot(x_hat, y_hat)\n",
    "dot_product_hat_improved = delta ** 2 * integer_dot_product + dot_product_x_part + dot_product_y_part + d * a ** 2 * delta ** 2 + d * min_v ** 2\n",
    "\n",
    "print(\"<x,y> =\", dot_product)\n",
    "print(\"<x_hat,y_hat> = \", dot_product_hat)\n",
    "print(\"Improved calculation: \", dot_product_hat_improved)\n",
    "\n",
    "print(\"Difference = \", np.abs(dot_product - dot_product_hat))\n",
    "print(\"Error estimation = \", delta * (pnorm(x_hat, 1) + pnorm(y_hat, 1)) + d * delta ** 2)\n",
    "print(\"Error estimation 2 = \", 2 * delta * math.sqrt(d) + d * delta ** 2)"
   ]
  },
  {
   "cell_type": "markdown",
   "metadata": {},
   "source": [
    "## Efficient calculation of the dot product"
   ]
  }
 ],
 "metadata": {
  "kernelspec": {
   "display_name": "Python 3.12.5 64-bit",
   "language": "python",
   "name": "python3"
  },
  "language_info": {
   "codemirror_mode": {
    "name": "ipython",
    "version": 3
   },
   "file_extension": ".py",
   "mimetype": "text/x-python",
   "name": "python",
   "nbconvert_exporter": "python",
   "pygments_lexer": "ipython3",
   "version": "3.12.5"
  },
  "orig_nbformat": 4,
  "vscode": {
   "interpreter": {
    "hash": "aee8b7b246df8f9039afb4144a1f6fd8d2ca17a180786b69acc140d282b71a49"
   }
  }
 },
 "nbformat": 4,
 "nbformat_minor": 2
}
