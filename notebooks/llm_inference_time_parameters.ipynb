{
 "cells": [
  {
   "cell_type": "markdown",
   "metadata": {},
   "source": [
    "# LLM Inference-time parameters\n",
    "\n",
    "In this notebook, we explore inference-time parameters of LLMs (like GPT from OpenAI) like temperature or top-p, which control the randomness of the output. These parameter are working on the output distribution of the last softmax layer from the underlying transformer model. At first, we need to look into the softmax function and its properties."
   ]
  },
  {
   "cell_type": "markdown",
   "metadata": {},
   "source": [
    "## Softmax\n",
    "The **softmax function** takes a real-valued vector as input and normalize it into a probability distribution. It is defined as follows:\n",
    "$$\n",
    "\\begin{align*}\n",
    "    \\sigma\\colon \\mathbb{R}^d &\\to \\left\\{x\\in\\mathbb{R}^d\\vert x_i\\geq 0, \\sum_{i=1}^{d}x_i = 1\\right\\}\\\\\n",
    "    x &\\mapsto \\left(\\frac{e^{x_i}}{\\sum_{j=1}^{d}e^{x_j}}\\right)_{1\\leq i\\leq d}\n",
    "\\end{align*}\n",
    "$$\n",
    "\n",
    "In general, we might be interested in other bases then $e$ too. Therefore, we introduce a new real-valued parameter $c\\in\\mathbb{R}$ and change the definition of $\\sigma$ slightly:\n",
    "\n",
    "$$\n",
    "\\begin{align*}\n",
    "    \\sigma_c\\colon \\mathbb{R}^d &\\to \\left\\{x\\in\\mathbb{R}^d\\vert x_i\\geq 0, \\sum_{i=1}^{d}x_i = 1\\right\\}\\\\\n",
    "    x &\\mapsto \\left(\\frac{e^{c\\cdot x_i}}{\\sum_{j=1}^{d}e^{c\\cdot x_j}}\\right)_{1\\leq i\\leq d}\n",
    "\\end{align*}\n",
    "$$\n",
    "Obviously, it holds $\\sigma_1 = \\sigma$. For convenience, let $\\sigma_c(x)_i = \\dfrac{e^{c\\cdot x_i}}{\\sum_{j=1}^{d}e^{c\\cdot x_j}}$ be the $i$-th part of the image $\\sigma_c(x)$.\n",
    "\n",
    "Next, we want to investigate on the effect of parameter $c$. For $c=0$, this is easy: we get the discrete uniform distribution. In fact, we see that\n",
    "\n",
    "$$\n",
    "\\sigma_0(x)_i = \\frac{e^{0\\cdot x_i}}{\\sum_{j=1}^{d}e^{0\\cdot x_j}} = \\frac{1}{\\sum_{j=1}^{d}1} = \\frac{1}{d}.\n",
    "$$\n",
    "\n",
    "For $c\\to\\infty$ the softmax function $\\sigma_c$ converges to the $\\operatorname{argmax}$ function. Indeed, let $\\hat{x}=\\max(x)$. Then, by extending $\\sigma_c(x)_i$ with $\\dfrac{e^{-c\\cdot\\hat{x}}}{e^{-c\\cdot\\hat{x}}}$ we get \n",
    "\n",
    "$$\n",
    "\\sigma_c(x)_i = \\dfrac{e^{c\\cdot x_i}}{\\sum_{j=1}^{d}e^{c\\cdot x_j}}\\cdot\\frac{e^{-c\\cdot\\hat{x}}}{e^{-c\\cdot\\hat{x}}} = \\frac{e^{c\\cdot(x_i-\\hat{x})}}{\\sum_{j=1}^{d}e^{c\\cdot(x_j-\\hat{x})}} = \\frac{e^{c\\cdot(x_i-\\hat{x})}}{\\sum\\limits_{\\substack{j=1 \\\\ x_j\\neq\\hat{x}}}^{d}e^{c\\cdot(x_j-\\hat{x})} + 1}.\n",
    "$$\n",
    "\n",
    "Since $x_j\\neq \\hat{x}$ it follows that $x_j-\\hat{x}<0$ and hence $\\lim_{c\\to\\infty}e^{c\\cdot(x_j-\\hat{x})}=0$. Therefore, for $x_i=\\hat{x}$ we see that\n",
    "\n",
    "$$\n",
    "\\lim_{c\\to\\infty}\\sigma_c(x)_i = \\lim_{c\\to\\infty}\\frac{e^{c\\cdot(x_i-\\hat{x})}}{\\sum\\limits_{\\substack{j=1\\\\ x_j\\neq\\hat{x}}}^{d}e^{c\\cdot(x_j-\\hat{x})} + 1} = \\lim_{c\\to\\infty}\\frac{1}{\\sum\\limits_{\\substack{j=1\\\\ x_j\\neq\\hat{x}}}^{d}e^{c\\cdot(x_j-\\hat{x})} + 1} = 1.\n",
    "$$\n",
    "\n",
    "Analogously, we see that for $x_i\\neq\\hat{x}$ it holds\n",
    "\n",
    "$$\n",
    "\\lim_{c\\to\\infty}\\sigma_c(x)_i = \\lim_{c\\to\\infty}\\frac{e^{c\\cdot(x_i-\\hat{x})}}{\\sum\\limits_{\\substack{j=1\\\\ x_j\\neq\\hat{x}}}^{d}e^{c\\cdot(x_j-\\hat{x})} + 1} = 0.\n",
    "$$\n",
    "\n",
    "Similarly, we can proof that $\\sigma_c$ converges to the $\\operatorname{argmin}$ function for $c\\to -\\infty$.\n",
    "\n",
    "Now that we have discussed the theory, we want to apply the results. We begin with a simple implementation of the softmax function."
   ]
  },
  {
   "cell_type": "code",
   "execution_count": 1,
   "metadata": {},
   "outputs": [],
   "source": [
    "import numpy as np\n",
    "import matplotlib.pyplot as plt\n",
    "from ipywidgets import interact"
   ]
  },
  {
   "cell_type": "code",
   "execution_count": 2,
   "metadata": {},
   "outputs": [],
   "source": [
    "def softmax(vector: np.array, c: float = 1) -> np.array:\n",
    "    return np.exp(c * vector) / np.sum(np.exp(c * vector))"
   ]
  },
  {
   "cell_type": "markdown",
   "metadata": {},
   "source": [
    "Next we will implement a simple function plotting a distribution because we are going to do that a lot."
   ]
  },
  {
   "cell_type": "code",
   "execution_count": 3,
   "metadata": {},
   "outputs": [],
   "source": [
    "def plot_distribution(ax: plt.Axes, data: np.array, title: str, normalized: bool = True) -> None:\n",
    "    ax.bar(range(len(data)), data)\n",
    "    ax.set_title(title)\n",
    "\n",
    "    if normalized:\n",
    "        ax.set_ylim(0, 1)\n",
    "        \n",
    "    ax.set_xticks(range(len(data)))\n",
    "    ax.set_xticklabels([\"t{}\".format(i) for i in range(1, len(data) + 1)])"
   ]
  },
  {
   "cell_type": "markdown",
   "metadata": {},
   "source": [
    "## Temperature\n",
    "The temperature $t>0$ is a parameter of an LLM controlling the randomness of the output. It scales the logits (the activations directly before the softmax layer) by dividing each entry by t, i.e. we use the softmax function $\\sigma_{1/t}$. Using the results from above we see that $\\sigma_{1/t}$ converges to the $\\operatorname{argmax}$ function for $t\\to 0$. In other words, the LLM becomes more deterministic. Conversely, the LLM becomes more random as the temperature increases. We will analyse this in the following interactive plot."
   ]
  },
  {
   "cell_type": "code",
   "execution_count": 4,
   "metadata": {},
   "outputs": [
    {
     "data": {
      "image/png": "[encoded data removed]",
      "text/plain": [
       "<Figure size 640x480 with 4 Axes>"
      ]
     },
     "metadata": {},
     "output_type": "display_data"
    }
   ],
   "source": [
    "dist = np.array([3, 2.5, 1.75, 1.5, 0.8, 0.3])\n",
    "\n",
    "softmax_dist = softmax(dist)\n",
    "softmax_dist_high = softmax(dist, 1 / 10)\n",
    "softmax_dist_low = softmax(dist, 1 / 0.25)\n",
    "\n",
    "fig, axes = plt.subplots(nrows=2, ncols=2)\n",
    "\n",
    "plot_distribution(axes[0][0], dist, \"Sorted logits\", False)\n",
    "plot_distribution(axes[0][1], softmax_dist, \"Temperature 1\")\n",
    "plot_distribution(axes[1][0], softmax_dist_high, \"Temperature 10\")\n",
    "plot_distribution(axes[1][1], softmax_dist_low, \"Temperature 0,25\")\n",
    "\n",
    "plt.tight_layout()\n",
    "plt.show()"
   ]
  },
  {
   "cell_type": "code",
   "execution_count": 5,
   "metadata": {},
   "outputs": [
    {
     "data": {
      "application/vnd.jupyter.widget-view+json": {
       "model_id": "b3cfc400927444939185248184299322",
       "version_major": 2,
       "version_minor": 0
      },
      "text/plain": [
       "interactive(children=(FloatSlider(value=1.0, description='t', max=10.0, min=0.01, step=0.01), Output()), _dom_…"
      ]
     },
     "metadata": {},
     "output_type": "display_data"
    }
   ],
   "source": [
    "@interact(t=(0.01, 10, 0.01))\n",
    "def plot_temperature_chart(t: float = 1) -> None:\n",
    "    dist = np.array([3, 2.5, 1.75, 1.5, 0.8, 0.3])\n",
    "    n_elements = len(dist)\n",
    "\n",
    "    softmax_dist = softmax(dist, 1 / t)\n",
    "\n",
    "    fig, axes = plt.subplots(nrows=1, ncols=2)\n",
    "\n",
    "    plot_distribution(axes[0], dist, \"Logits\", False)\n",
    "    plot_distribution(axes[1], softmax_dist, f\"Temperature {t}\")"
   ]
  },
  {
   "cell_type": "markdown",
   "metadata": {},
   "source": [
    "## Top k sampling\n",
    "\n",
    "Unlike the temperature the Top k sampling does not change the output discrete probability distribution from the underlying transformer model. This method consists of three steps:\n",
    "\n",
    "1. order the tokens in descending order of probability\n",
    "2. select the first k tokens and create a new distribution out of these k tokens (if we select a subset we need to normalize the selection to obtain a new distribution)\n",
    "3. sample from this new distribution\n",
    "\n",
    "Because $k$ is a fixed number we get a static number of tokens. For $k=1$ we call it a **greedy strategy**."
   ]
  },
  {
   "cell_type": "code",
   "execution_count": 6,
   "metadata": {},
   "outputs": [],
   "source": [
    "def top_k_sampling(dist: np.array, top_k: int) -> np.array:\n",
    "    assert top_k > 0, \"top_k should be > 0\"\n",
    "\n",
    "    sorted_dist = sorted(dist, reverse=True)\n",
    "    sample = sorted_dist[:top_k]\n",
    "    \n",
    "    return sample / sum(sample)"
   ]
  },
  {
   "cell_type": "code",
   "execution_count": 7,
   "metadata": {},
   "outputs": [
    {
     "data": {
      "image/png": "[encoded data removed]",
      "text/plain": [
       "<Figure size 640x480 with 2 Axes>"
      ]
     },
     "metadata": {},
     "output_type": "display_data"
    }
   ],
   "source": [
    "dist = np.array([3, 2.5, 1.75, 1.5, 0.8, 0.3])\n",
    "softmax_dist = softmax(dist)\n",
    "\n",
    "sample = top_k_sampling(softmax_dist, 3)\n",
    "\n",
    "fig, axes = plt.subplots(nrows=1, ncols=2)\n",
    "\n",
    "plot_distribution(axes[0], softmax_dist, \"Logits\")\n",
    "plot_distribution(axes[1], sample, f\"Top k={3}\")"
   ]
  },
  {
   "cell_type": "code",
   "execution_count": 8,
   "metadata": {},
   "outputs": [
    {
     "data": {
      "application/vnd.jupyter.widget-view+json": {
       "model_id": "70ed5012348149ad8bb9bfd5dcf2e1e3",
       "version_major": 2,
       "version_minor": 0
      },
      "text/plain": [
       "interactive(children=(IntSlider(value=1, description='top_k', max=6, min=1), Output()), _dom_classes=('widget-…"
      ]
     },
     "metadata": {},
     "output_type": "display_data"
    }
   ],
   "source": [
    "@interact(top_k=(1, 6, 1))\n",
    "def plot_top_k_chart(top_k: int = 1) -> None:\n",
    "    dist = np.array([3, 2.5, 1.75, 1.5, 0.8, 0.3])\n",
    "    softmax_dist = softmax(dist)\n",
    "\n",
    "    sample = top_k_sampling(softmax_dist, top_k)\n",
    "\n",
    "    fig, axes = plt.subplots(nrows=1, ncols=2)\n",
    "\n",
    "    plot_distribution(axes[0], softmax_dist, \"Logits\")\n",
    "    plot_distribution(axes[1], sample, f\"Top k={top_k}\")\n"
   ]
  },
  {
   "cell_type": "markdown",
   "metadata": {},
   "source": [
    "## Top p sampling (nucleus sampling)\n",
    "\n",
    "The Top p sampling method is similar to Top k sampling, but instead of selecting a fixed number of tokens we select a dynamic number of tokens depending on the probability distribution. Again, this method consists of three steps:\n",
    "\n",
    "1. order the tokens in descending order of probability\n",
    "2. select the smallest number of tokens such that theire cumulative probability is at least p\n",
    "3. sample from this new distribution"
   ]
  },
  {
   "cell_type": "code",
   "execution_count": 9,
   "metadata": {},
   "outputs": [],
   "source": [
    "def top_p_sampling(dist: np.array, top_p: float) -> np.array:\n",
    "    assert top_p >= 0, \"top_p should be >= 0\"\n",
    "    assert top_p <= 1, \"top_p should be <= 1\"\n",
    "\n",
    "    sorted_dist = sorted(dist, reverse=True)\n",
    "    cumulative_probs = np.cumsum(sorted_dist)\n",
    "\n",
    "    threshold_index = np.where(cumulative_probs >= top_p)[0][0]\n",
    "\n",
    "    sample = sorted_dist[:threshold_index + 1]\n",
    "\n",
    "    return sample / sum(sample)"
   ]
  },
  {
   "cell_type": "code",
   "execution_count": 10,
   "metadata": {},
   "outputs": [
    {
     "data": {
      "image/png": "[encoded data removed]",
      "text/plain": [
       "<Figure size 640x480 with 2 Axes>"
      ]
     },
     "metadata": {},
     "output_type": "display_data"
    }
   ],
   "source": [
    "dist = np.array([3, 2.5, 1.75, 1.5, 0.8, 0.3])\n",
    "softmax_dist = softmax(dist)\n",
    "\n",
    "sample = top_p_sampling(softmax_dist, 0.86)\n",
    "\n",
    "fig, axes = plt.subplots(nrows=1, ncols=2)\n",
    "\n",
    "plot_distribution(axes[0], softmax_dist, \"Logits\")\n",
    "plot_distribution(axes[1], sample, f\"Top-p {0.86}\")"
   ]
  },
  {
   "cell_type": "code",
   "execution_count": 11,
   "metadata": {},
   "outputs": [
    {
     "data": {
      "application/vnd.jupyter.widget-view+json": {
       "model_id": "6710901e6ee945cc8e1ced06fbf605e9",
       "version_major": 2,
       "version_minor": 0
      },
      "text/plain": [
       "interactive(children=(FloatSlider(value=0.5, description='top_p', max=1.0, step=0.01), Output()), _dom_classes…"
      ]
     },
     "metadata": {},
     "output_type": "display_data"
    }
   ],
   "source": [
    "@interact(top_p=(0, 1, 0.01))\n",
    "def plot_top_p_chart(top_p: float = 0.5) -> None:\n",
    "    dist = np.array([3, 2.5, 1.75, 1.5, 0.8, 0.3])\n",
    "    softmax_dist = softmax(dist)\n",
    "\n",
    "    sample = top_p_sampling(softmax_dist, top_p)\n",
    "\n",
    "    fig, axes = plt.subplots(nrows=1, ncols=2)\n",
    "\n",
    "    plot_distribution(axes[0], softmax_dist, \"Logits\")\n",
    "    plot_distribution(axes[1], sample, f\"Top-p {top_p}\")"
   ]
  }
 ],
 "metadata": {
  "kernelspec": {
   "display_name": "Python 3.11.6 64-bit",
   "language": "python",
   "name": "python3"
  },
  "language_info": {
   "codemirror_mode": {
    "name": "ipython",
    "version": 3
   },
   "file_extension": ".py",
   "mimetype": "text/x-python",
   "name": "python",
   "nbconvert_exporter": "python",
   "pygments_lexer": "ipython3",
   "version": "3.12.5"
  },
  "orig_nbformat": 4,
  "vscode": {
   "interpreter": {
    "hash": "aee8b7b246df8f9039afb4144a1f6fd8d2ca17a180786b69acc140d282b71a49"
   }
  }
 },
 "nbformat": 4,
 "nbformat_minor": 2
}
