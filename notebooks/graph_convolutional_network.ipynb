{
 "cells": [
  {
   "cell_type": "markdown",
   "metadata": {},
   "source": [
    "# Graph Convolutional Networks\n",
    "\n",
    "In this notebook, we will discuss the intuition behind graph convolutional networks (GCN)."
   ]
  },
  {
   "cell_type": "code",
   "execution_count": 1,
   "metadata": {},
   "outputs": [],
   "source": [
    "import math\n",
    "import numpy as np\n",
    "import scipy\n",
    "\n",
    "import matplotlib.pyplot as plt\n",
    "import networkx as nx"
   ]
  },
  {
   "cell_type": "markdown",
   "metadata": {},
   "source": [
    "Let $G=(V,E)$ be a graph with $n$ nodes, i.e. $V$ is a set of nodes $V=\\{v_1, \\dotsc, v_n\\}$ and $E$ is a set of edges, i.e. $E\\subseteq \\{\\{v, w\\}\\,\\vert\\, v, w\\in V\\}$. To simplify the notation, we often denote the nodes with natural numbers and edges with pairs of natural numbers, i.e. $V=\\{1, \\dotsc, n\\}$ and $E\\subseteq \\{\\{i, j\\}\\,\\vert\\, i, j\\in V\\}$. We also can describe a graph as a list of edges. Let's have a look on a small example."
   ]
  },
  {
   "cell_type": "code",
   "execution_count": 2,
   "metadata": {},
   "outputs": [],
   "source": [
    "edge_list = np.array([\n",
    "    [1, 2],\n",
    "    [2, 3],\n",
    "    [3, 4],\n",
    "    [3, 5]\n",
    "])"
   ]
  },
  {
   "cell_type": "code",
   "execution_count": 3,
   "metadata": {},
   "outputs": [
    {
     "data": {
      "image/png": "[encoded data removed]",
      "text/plain": [
       "<Figure size 640x480 with 1 Axes>"
      ]
     },
     "metadata": {},
     "output_type": "display_data"
    }
   ],
   "source": [
    "G = nx.from_edgelist(edge_list)\n",
    "\n",
    "pos = nx.planar_layout(G)\n",
    "\n",
    "nx.draw(G, pos, with_labels=True)"
   ]
  },
  {
   "cell_type": "markdown",
   "metadata": {},
   "source": [
    "To each node $v\\in V$ we assign a feature vector $x_v\\in\\mathbb{R}^d$, which will be used as input for our model. We can gather these feature vectors in the matrix $X\\in\\mathbb{R}^{n\\times d}$, i.e. each row is a feature vector of a node. As example each of the five nodes get a four dimensional feature vector."
   ]
  },
  {
   "cell_type": "code",
   "execution_count": 4,
   "metadata": {},
   "outputs": [
    {
     "data": {
      "text/plain": [
       "array([[0.65075655, 0.79535875, 0.71579676, 0.50376041],\n",
       "       [0.19109517, 0.01538404, 0.65409261, 0.70677271],\n",
       "       [0.58207986, 0.12598652, 0.05221181, 0.0767254 ],\n",
       "       [0.89056242, 0.10394152, 0.35669619, 0.58237205],\n",
       "       [0.78899457, 0.90985754, 0.03400964, 0.18196712]])"
      ]
     },
     "execution_count": 4,
     "metadata": {},
     "output_type": "execute_result"
    }
   ],
   "source": [
    "FEATURE_DIMENSION = 4\n",
    "\n",
    "X = np.random.rand(5, FEATURE_DIMENSION)\n",
    "\n",
    "X"
   ]
  },
  {
   "cell_type": "markdown",
   "metadata": {},
   "source": [
    "Further more, we can represent the graph $G$ as matrix. Indeed, the adjacency matrix $A\\in\\mathbb{R}^{n\\times n}$ is defined as\n",
    "\n",
    "$$\n",
    "A_{ij} = \\begin{cases}\n",
    "    1 \\text{ if } \\{v_i, v_j\\}\\in E,\\\\\n",
    "    0 \\text{ else.}\n",
    "\\end{cases}\n",
    "$$"
   ]
  },
  {
   "cell_type": "code",
   "execution_count": 5,
   "metadata": {},
   "outputs": [],
   "source": [
    "def calculate_adjacency_matrix(edge_list: np.ndarray) -> np.ndarray:\n",
    "    nodes = np.unique(edge_list)\n",
    "    node_to_idx = {node: idx for idx, node in enumerate(nodes)}\n",
    "\n",
    "    adj_matrix = np.zeros((len(nodes), len(nodes)))\n",
    "\n",
    "    for edge in edge_list:\n",
    "        node_idx_1 = node_to_idx[edge[0]]\n",
    "        node_idx_2 = node_to_idx[edge[1]]\n",
    "\n",
    "        adj_matrix[node_idx_1][node_idx_2] = 1\n",
    "        adj_matrix[node_idx_2][node_idx_1] = 1\n",
    "\n",
    "    return adj_matrix"
   ]
  },
  {
   "cell_type": "code",
   "execution_count": 6,
   "metadata": {},
   "outputs": [
    {
     "data": {
      "text/plain": [
       "array([[0., 1., 0., 0., 0.],\n",
       "       [1., 0., 1., 0., 0.],\n",
       "       [0., 1., 0., 1., 1.],\n",
       "       [0., 0., 1., 0., 0.],\n",
       "       [0., 0., 1., 0., 0.]])"
      ]
     },
     "execution_count": 6,
     "metadata": {},
     "output_type": "execute_result"
    }
   ],
   "source": [
    "A = calculate_adjacency_matrix(edge_list)\n",
    "\n",
    "A"
   ]
  },
  {
   "cell_type": "markdown",
   "metadata": {},
   "source": [
    "In a graph convolutional network we iteratively want to update the node representations by exchanging information with their neighbours. The neighbourhood of a node $i$ is defined as the set of nodes $j$, which are connected to $i$, i.e.\n",
    "$$\n",
    "    N_i = \\{j \\,\\vert\\, \\{i, j\\}\\in E\\}.\n",
    "$$\n",
    "The update of the representations is based on message passing, i.e. we have an aggregation step and an update step.\n",
    "\n",
    "The aggregation $\\overline{x_i}$ of node $i\\in V$ is the sum of the representations of the neighbours of $i$, i.e.\n",
    "$$\n",
    "    \\overline{x_i} = \\sum_{j\\in N_i}x_j = \\sum_{j=1}^n a_{ij}x_j.\n",
    "$$\n",
    "In other words, the aggregated representation is the $i$-th row of $AX$.\n",
    "\n",
    "One issue of this approach is that the aggregation of node $i$ does not take into account the representation of itself, i.e. we want to update the representation of $i$ with\n",
    "$$\n",
    "    x_i + \\sum_{j\\in N_i}x_j.\n",
    "$$\n",
    "To fix this, we add self-connections, i.e. each node is connected to itself. The adjacency matrix changes as follows: $\\tilde{A} = A + I$, where $I\\in\\mathbb{R}^{n\\times n}$ is the identity matrix."
   ]
  },
  {
   "cell_type": "code",
   "execution_count": 7,
   "metadata": {},
   "outputs": [
    {
     "data": {
      "text/plain": [
       "array([[1., 1., 0., 0., 0.],\n",
       "       [1., 1., 1., 0., 0.],\n",
       "       [0., 1., 1., 1., 1.],\n",
       "       [0., 0., 1., 1., 0.],\n",
       "       [0., 0., 1., 0., 1.]])"
      ]
     },
     "execution_count": 7,
     "metadata": {},
     "output_type": "execute_result"
    }
   ],
   "source": [
    "A_tilde = A + np.eye(len(A))\n",
    "\n",
    "A_tilde"
   ]
  },
  {
   "cell_type": "markdown",
   "metadata": {},
   "source": [
    "Another issue is that nodes with large neighbourhoods get representation vectors with large magnitude. In contrast, nodes with only a few neighbours get representation vectors with a small magnitude. This can be a problem when searching for signals that are independent of the number of nodes. Also, this can lead to numerical stability issues. To fix this, we normalize the aggregated representation by the neighbourhood size, i.e.\n",
    "$$\n",
    "    \\overline{x_i} = \\frac{1}{\\vert N_i\\vert}\\sum_{j\\in Ni}x_j.\n",
    "$$\n",
    "We also can achieve this with a manipulated adjacency matrix. For that, we define the degree matrix of the graph. Let $\\deg v$ be the number of neighbours of $v$, i.e. $\\deg v = \\vert N_v\\vert$. Then we define the degree matrix $\\tilde{D}$ of $\\tilde{A}$ as $\\tilde{D} = \\operatorname{diag}(\\deg(v_i))_{i=1,\\dotsc, n}$. In other words, it holds $\\tilde{d}_{ii} = \\sum_{j=1}^n\\tilde{a}_{ij}$.\n",
    "\n",
    "Since each node is at least connected to itself, this means that all node degrees are positive and hence $\\tilde{D}$ is invertible. The matrix product $\\tilde{D}^{-1}A$ normalizes the aggregated representation, i.e. $\\overline{x_i}$ is the $i$-th row of $\\tilde{D}^{-1}AX$."
   ]
  },
  {
   "cell_type": "code",
   "execution_count": 8,
   "metadata": {},
   "outputs": [],
   "source": [
    "def calculate_degree_matrix(adj_matrix: np.ndarray) -> np.ndarray:\n",
    "    node_degrees = np.sum(adj_matrix, axis=0)\n",
    "\n",
    "    return np.diag(node_degrees)"
   ]
  },
  {
   "cell_type": "code",
   "execution_count": 9,
   "metadata": {},
   "outputs": [
    {
     "data": {
      "text/plain": [
       "array([[2., 0., 0., 0., 0.],\n",
       "       [0., 3., 0., 0., 0.],\n",
       "       [0., 0., 4., 0., 0.],\n",
       "       [0., 0., 0., 2., 0.],\n",
       "       [0., 0., 0., 0., 2.]])"
      ]
     },
     "execution_count": 9,
     "metadata": {},
     "output_type": "execute_result"
    }
   ],
   "source": [
    "D_tilde = calculate_degree_matrix(A_tilde)\n",
    "\n",
    "D_tilde"
   ]
  },
  {
   "cell_type": "code",
   "execution_count": 10,
   "metadata": {},
   "outputs": [
    {
     "data": {
      "text/plain": [
       "array([[0.5       , 0.5       , 0.        , 0.        , 0.        ],\n",
       "       [0.33333333, 0.33333333, 0.33333333, 0.        , 0.        ],\n",
       "       [0.        , 0.25      , 0.25      , 0.25      , 0.25      ],\n",
       "       [0.        , 0.        , 0.5       , 0.5       , 0.        ],\n",
       "       [0.        , 0.        , 0.5       , 0.        , 0.5       ]])"
      ]
     },
     "execution_count": 10,
     "metadata": {},
     "output_type": "execute_result"
    }
   ],
   "source": [
    "np.linalg.inv(D_tilde) @ A_tilde"
   ]
  },
  {
   "cell_type": "markdown",
   "metadata": {},
   "source": [
    "There is still a problem left: nodes with many neighbours can share their information more easily than nodes with only a few neighbours. Therefore, we also normalize by the source node degree. We achieve this by defining\n",
    "$$\n",
    "    \\hat{A} = \\tilde{D}^{-1/2}A\\tilde{D}^{-1/2}.\n",
    "$$\n",
    "Elementwise we see that $\\hat{a}_{ij} = \\frac{1}{\\sqrt{\\tilde{d_i}\\tilde{d_j}}}\\tilde{a}_{ij}$ holds.\n",
    "\n",
    "For the aggregated of the representation it follows that\n",
    "$$\n",
    "    \\overline{x_i} = \\sum_{j\\in N_i}\\frac{1}{\\sqrt{\\tilde{d_i}\\tilde{d_j}}}x_j = \\frac{1}{\\sqrt{\\tilde{d_i}}}\\sum_{j\\in N_i}\\frac{1}{\\sqrt{\\tilde{d_j}}}x_j.\n",
    "$$"
   ]
  },
  {
   "cell_type": "code",
   "execution_count": 11,
   "metadata": {},
   "outputs": [
    {
     "data": {
      "text/plain": [
       "array([[0.70710678, 0.        , 0.        , 0.        , 0.        ],\n",
       "       [0.        , 0.57735027, 0.        , 0.        , 0.        ],\n",
       "       [0.        , 0.        , 0.5       , 0.        , 0.        ],\n",
       "       [0.        , 0.        , 0.        , 0.70710678, 0.        ],\n",
       "       [0.        , 0.        , 0.        , 0.        , 0.70710678]])"
      ]
     },
     "execution_count": 11,
     "metadata": {},
     "output_type": "execute_result"
    }
   ],
   "source": [
    "D_invroot = np.linalg.inv(scipy.linalg.sqrtm(D_tilde))\n",
    "\n",
    "D_invroot"
   ]
  },
  {
   "cell_type": "code",
   "execution_count": 12,
   "metadata": {},
   "outputs": [
    {
     "data": {
      "text/plain": [
       "array([[0.5       , 0.40824829, 0.        , 0.        , 0.        ],\n",
       "       [0.40824829, 0.33333333, 0.28867513, 0.        , 0.        ],\n",
       "       [0.        , 0.28867513, 0.25      , 0.35355339, 0.35355339],\n",
       "       [0.        , 0.        , 0.35355339, 0.5       , 0.        ],\n",
       "       [0.        , 0.        , 0.35355339, 0.        , 0.5       ]])"
      ]
     },
     "execution_count": 12,
     "metadata": {},
     "output_type": "execute_result"
    }
   ],
   "source": [
    "A_hat = D_invroot @ A_tilde @ D_invroot\n",
    "\n",
    "A_hat"
   ]
  },
  {
   "cell_type": "markdown",
   "metadata": {},
   "source": [
    "We have seen above that we can calculate $\\hat{A}$ directly by using $\\hat{a}_{ij} = \\frac{1}{\\sqrt{\\tilde{d_i}\\tilde{d_j}}}\\tilde{a}_{ij}$."
   ]
  },
  {
   "cell_type": "code",
   "execution_count": 13,
   "metadata": {},
   "outputs": [],
   "source": [
    "def calculate_A_hat(adj_matrix: np.ndarray) -> np.ndarray:\n",
    "    degrees = np.sum(adj_matrix, axis=0)\n",
    "    degree_roots = [math.sqrt(degree) for degree in degrees]\n",
    "\n",
    "    n = len(adj_matrix)\n",
    "\n",
    "    A_hat = np.zeros((n, n))\n",
    "\n",
    "    for i in range(n):\n",
    "        for j in range(n):\n",
    "            A_hat[i][j] = adj_matrix[i][j] / (degree_roots[i] * degree_roots[j])\n",
    "\n",
    "    return A_hat"
   ]
  },
  {
   "cell_type": "code",
   "execution_count": 14,
   "metadata": {},
   "outputs": [
    {
     "data": {
      "text/plain": [
       "array([[0.5       , 0.40824829, 0.        , 0.        , 0.        ],\n",
       "       [0.40824829, 0.33333333, 0.28867513, 0.        , 0.        ],\n",
       "       [0.        , 0.28867513, 0.25      , 0.35355339, 0.35355339],\n",
       "       [0.        , 0.        , 0.35355339, 0.5       , 0.        ],\n",
       "       [0.        , 0.        , 0.35355339, 0.        , 0.5       ]])"
      ]
     },
     "execution_count": 14,
     "metadata": {},
     "output_type": "execute_result"
    }
   ],
   "source": [
    "calculate_A_hat(A_tilde)"
   ]
  },
  {
   "cell_type": "markdown",
   "metadata": {},
   "source": [
    "We update the representations by multiplying the aggregated results with the trainable weight matrix $W\\in\\mathbb{R}^{d\\times w}$, i.e. we are interested in the product $\\hat{A}XW$. Also, we apply a non-linear activation function $\\sigma$ (e.g. ReLU) to the product, i.e. we define\n",
    "\n",
    "$$\n",
    "    f_W(X, A) = \\sigma(\\hat{A}XW).\n",
    "$$\n",
    "We call this a graph convolutional layer."
   ]
  },
  {
   "cell_type": "code",
   "execution_count": 15,
   "metadata": {},
   "outputs": [
    {
     "data": {
      "text/plain": [
       "array([[0.68224617, 0.02770412],\n",
       "       [0.43337131, 0.37158243],\n",
       "       [0.04090132, 0.51271641],\n",
       "       [0.05296721, 0.06834341]])"
      ]
     },
     "execution_count": 15,
     "metadata": {},
     "output_type": "execute_result"
    }
   ],
   "source": [
    "W = np.random.rand(FEATURE_DIMENSION, 2)\n",
    "\n",
    "W"
   ]
  },
  {
   "cell_type": "code",
   "execution_count": 16,
   "metadata": {},
   "outputs": [
    {
     "data": {
      "text/plain": [
       "array([[0.50446261, 0.51862626],\n",
       "       [0.54408216, 0.4508674 ],\n",
       "       [0.7529945 , 0.37660332],\n",
       "       [0.51093124, 0.17656146],\n",
       "       [0.63371123, 0.22848079]])"
      ]
     },
     "execution_count": 16,
     "metadata": {},
     "output_type": "execute_result"
    }
   ],
   "source": [
    "A_hat @ X @ W"
   ]
  },
  {
   "cell_type": "code",
   "execution_count": 17,
   "metadata": {},
   "outputs": [],
   "source": [
    "def ReLU(x: np.ndarray) -> np.ndarray:\n",
    "    return np.maximum(x, 0)"
   ]
  },
  {
   "cell_type": "code",
   "execution_count": 18,
   "metadata": {},
   "outputs": [
    {
     "data": {
      "text/plain": [
       "array([[0.50446261, 0.51862626],\n",
       "       [0.54408216, 0.4508674 ],\n",
       "       [0.7529945 , 0.37660332],\n",
       "       [0.51093124, 0.17656146],\n",
       "       [0.63371123, 0.22848079]])"
      ]
     },
     "execution_count": 18,
     "metadata": {},
     "output_type": "execute_result"
    }
   ],
   "source": [
    "ReLU(A_hat @ X @ W)"
   ]
  },
  {
   "cell_type": "markdown",
   "metadata": {},
   "source": [
    "Until now we only considered the direct neighbours of a node, but nodes that are further away could also be of interest. By stacking multiple graph convolutional layers the information from a single node can spread further in the graph, i.e. if we stack $n$ layers the nodes which are at max $n$ hops away will be taken into account. We can define the $n$ layer like this:\n",
    "\n",
    "$$\n",
    "    H_1\\coloneqq f_{W_1}(X, A) \\\\\n",
    "    H_2\\coloneqq f_{W_2}(H_1, A) \\\\\n",
    "    \\vdots \\\\\n",
    "    H_n\\coloneqq f_{W_n}(H_{n-1}, A) \\\\\n",
    "$$"
   ]
  },
  {
   "cell_type": "markdown",
   "metadata": {},
   "source": [
    "## Water drop"
   ]
  },
  {
   "cell_type": "code",
   "execution_count": 19,
   "metadata": {},
   "outputs": [],
   "source": [
    "x = np.array([1, 0, 0, 0, 0])\n",
    "\n",
    "results = [x]\n",
    "\n",
    "for _ in range(11):\n",
    "    x = A_hat @ x\n",
    "    results.append(x)"
   ]
  },
  {
   "cell_type": "code",
   "execution_count": 20,
   "metadata": {},
   "outputs": [
    {
     "data": {
      "image/png": "[encoded data removed]",
      "text/plain": [
       "<Figure size 640x480 with 12 Axes>"
      ]
     },
     "metadata": {},
     "output_type": "display_data"
    }
   ],
   "source": [
    "fig, ax = plt.subplots(nrows=3, ncols=4)\n",
    "\n",
    "kwargs = {\n",
    "    \"cmap\": \"hot\",\n",
    "    \"node_size\": 15,\n",
    "    \"edge_color\": \"gray\",\n",
    "    \"vmin\": np.array(results).min(),\n",
    "    \"vmax\": np.array(results).max() * 1.1\n",
    "}\n",
    "\n",
    "for index, result in enumerate(results):\n",
    "    nx.draw(G, pos, node_color=result, ax=ax[index // 4][index % 4], **kwargs)"
   ]
  }
 ],
 "metadata": {
  "kernelspec": {
   "display_name": "Python 3.11.6 64-bit",
   "language": "python",
   "name": "python3"
  },
  "language_info": {
   "codemirror_mode": {
    "name": "ipython",
    "version": 3
   },
   "file_extension": ".py",
   "mimetype": "text/x-python",
   "name": "python",
   "nbconvert_exporter": "python",
   "pygments_lexer": "ipython3",
   "version": "3.12.5"
  },
  "orig_nbformat": 4,
  "vscode": {
   "interpreter": {
    "hash": "aee8b7b246df8f9039afb4144a1f6fd8d2ca17a180786b69acc140d282b71a49"
   }
  }
 },
 "nbformat": 4,
 "nbformat_minor": 2
}
