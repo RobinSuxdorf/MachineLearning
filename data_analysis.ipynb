{
 "cells": [
  {
   "cell_type": "code",
   "execution_count": 1,
   "metadata": {},
   "outputs": [],
   "source": [
    "import pandas as pd\n",
    "\n",
    "df = pd.read_csv(\"/Users/robinsuxdorf/Downloads/archive-4/job_skills.csv\")\n",
    "df2 = pd.read_csv(\"/Users/robinsuxdorf/Downloads/archive-4/linkedin_job_postings.csv\")"
   ]
  },
  {
   "cell_type": "code",
   "execution_count": null,
   "metadata": {},
   "outputs": [],
   "source": [
    "merge_df = pd.merge(df, df2, on=\"job_link\", how=\"inner\")"
   ]
  },
  {
   "cell_type": "code",
   "execution_count": null,
   "metadata": {},
   "outputs": [],
   "source": [
    "job_df = merge_df[[\"job_link\", \"job_skills\", \"job_title\", \"company\", \"job_location\", \"job_level\"]]"
   ]
  },
  {
   "cell_type": "code",
   "execution_count": null,
   "metadata": {},
   "outputs": [],
   "source": [
    "job_df = job_df[job_df[\"job_skills\"].isna() == False]\n",
    "job_df = job_df[job_df[\"job_title\"].isna() == False]\n",
    "job_df = job_df[job_df[\"company\"].isna() == False]\n",
    "\n",
    "job_df = job_df.head(100)\n",
    "job_df.reset_index(drop=True, inplace=True)"
   ]
  },
  {
   "cell_type": "code",
   "execution_count": null,
   "metadata": {},
   "outputs": [],
   "source": [
    "skills: list[str] = []\n",
    "job_titles: list[str] = []\n",
    "companies: list[str] = []\n",
    "\n",
    "for index, row in job_df.iterrows():\n",
    "    job_skills = row[\"job_skills\"].split(\",\")\n",
    "    skills.extend(job_skills)\n",
    "\n",
    "    job_titles.append(row[\"job_title\"])\n",
    "    companies.append(row[\"company\"])\n",
    "\n",
    "skills = list(set(skills))\n",
    "job_titles = list(set(job_titles))\n",
    "companies = list(set(companies))"
   ]
  },
  {
   "cell_type": "code",
   "execution_count": null,
   "metadata": {},
   "outputs": [],
   "source": [
    "## check for lowercase\n",
    "## remove unnecessary whitespaces\n",
    "## remove skills with numbers?\n",
    "\n",
    "# def remove_duplicates(words):\n",
    "#     seen = set()\n",
    "#     unique_words = []\n",
    "    \n",
    "#     for word in words:\n",
    "#         normalized_word = word.lower()\n",
    "#         if normalized_word not in seen:\n",
    "#             seen.add(normalized_word)\n",
    "#             unique_words.append(word)\n",
    "    \n",
    "#     return unique_words\n",
    "\n",
    "# skills = remove_duplicates(skills)\n",
    "\n",
    "# len(skills)"
   ]
  },
  {
   "cell_type": "code",
   "execution_count": null,
   "metadata": {},
   "outputs": [],
   "source": [
    "skill_to_idx = {skill: index for index, skill in enumerate(skills)}\n",
    "job_title_to_idx = {job_title: index for index, job_title in enumerate(job_titles)}\n",
    "company_to_idx = {company: index for index, company in enumerate(companies)}"
   ]
  },
  {
   "cell_type": "code",
   "execution_count": null,
   "metadata": {},
   "outputs": [],
   "source": [
    "def map_skills_to_ids(row):\n",
    "\n",
    "    job_skills = row.split(\",\")\n",
    "\n",
    "    skill_ids = [skill_to_idx[skill] for skill in job_skills]\n",
    "    return skill_ids"
   ]
  },
  {
   "cell_type": "code",
   "execution_count": null,
   "metadata": {},
   "outputs": [],
   "source": [
    "job_df[\"skill_ids\"] = job_df[\"job_skills\"].apply(map_skills_to_ids)\n",
    "job_df[\"job_title_id\"] = job_df[\"job_title\"].apply(lambda job: job_title_to_idx[job])\n",
    "job_df[\"company_id\"] = job_df[\"company\"].apply(lambda company: company_to_idx[company])"
   ]
  },
  {
   "cell_type": "code",
   "execution_count": null,
   "metadata": {},
   "outputs": [],
   "source": [
    "job_df"
   ]
  },
  {
   "cell_type": "code",
   "execution_count": 6,
   "metadata": {},
   "outputs": [],
   "source": [
    "URI = \"bolt://localhost:7687\"\n",
    "AUTH = (\"neo4j\", \"RS96ltme44ever\")"
   ]
  },
  {
   "cell_type": "code",
   "execution_count": null,
   "metadata": {},
   "outputs": [],
   "source": [
    "from neo4j import GraphDatabase\n",
    "\n",
    "## add contraints for other entities\n",
    "## add skill relationships\n",
    "## extract queries\n",
    "\n",
    "def setup_index(driver: GraphDatabase.driver) -> None:\n",
    "    with driver.session() as session:\n",
    "        session.run(\"CREATE CONSTRAINT FOR (s:Skill) REQUIRE s.skillID IS UNIQUE\")\n",
    "\n",
    "def add_skills(driver: GraphDatabase.driver, skill_to_idx: tuple[str, int]) -> None:\n",
    "    with driver.session() as session:\n",
    "        with session.begin_transaction() as tx:\n",
    "            for skill, skill_id in skill_to_idx.items():\n",
    "                tx.run(\n",
    "                    \"MERGE (:Skill {skillID: $skillID, skillName: $skillName})\",\n",
    "                    skillID=skill_id, skillName=skill\n",
    "                )\n",
    "            tx.commit()\n",
    "\n",
    "def add_companies(driver: GraphDatabase.driver, company_to_idx: tuple[str, int]) -> None:\n",
    "    with driver.session() as session:\n",
    "        with session.begin_transaction() as tx:\n",
    "            for company, company_id in company_to_idx.items():\n",
    "                tx.run(\n",
    "                    \"MERGE (:Company {companyID: $companyID, companyName: $companyName})\",\n",
    "                    companyID=company_id, companyName=company\n",
    "                )\n",
    "            tx.commit()\n",
    "\n",
    "def add_job_titles(driver: GraphDatabase.driver, job_title_to_idx: tuple[str, int]) -> None:\n",
    "    with driver.session() as session:\n",
    "        with session.begin_transaction() as tx:\n",
    "            for job_title, job_title_id in job_title_to_idx.items():\n",
    "                tx.run(\n",
    "                    \"MERGE (:JobTitle {jobTitleID: $jobTitleID, jobTitle: $jobTitle})\",\n",
    "                    jobTitleID=job_title_id, jobTitle=job_title\n",
    "                )\n",
    "            tx.commit()\n",
    "\n",
    "def add_jobs(driver: GraphDatabase, df: pd.DataFrame) -> None:\n",
    "    with driver.session() as session:\n",
    "        with session.begin_transaction() as tx:\n",
    "            for _, job in df.iterrows():\n",
    "                tx.run(\n",
    "                    \"\"\"\n",
    "                        MATCH (c:Company {companyID: $companyID})\n",
    "                        MATCH (jt: JobTitle {jobTitleID: $jobTitleID})\n",
    "\n",
    "                        MERGE (j:Job {link: $link})\n",
    "                        MERGE (j)-[:HAS_ROLE]->(jt)\n",
    "                        MERGE (j)-[:FOR_COMPANY]->(c)\n",
    "                    \"\"\",\n",
    "                    companyID=job[\"company_id\"],\n",
    "                    jobTitleID=job[\"job_title_id\"],\n",
    "                    link=job[\"job_link\"]\n",
    "                )\n",
    "\n",
    "URI = \"neo4j://localhost:7687\"\n",
    "URI2 = \"bolt://localhost:7687\"\n",
    "AUTH = (\"neo4j\", \"RS96ltme44ever\")\n",
    "\n",
    "with GraphDatabase.driver(URI, auth=AUTH) as driver:\n",
    "    # setup_index(driver)\n",
    "    # add_skills(driver, skill_to_idx)\n",
    "    add_companies(driver, company_to_idx)\n",
    "    add_job_titles(driver, job_title_to_idx)\n",
    "    add_jobs(driver, job_df)"
   ]
  },
  {
   "cell_type": "code",
   "execution_count": 8,
   "metadata": {},
   "outputs": [],
   "source": [
    "from graphdatascience import GraphDataScience\n",
    "\n",
    "gds = GraphDataScience(endpoint=URI, auth=AUTH)"
   ]
  },
  {
   "cell_type": "code",
   "execution_count": 26,
   "metadata": {},
   "outputs": [
    {
     "data": {
      "text/plain": [
       "graphName                                                      skill_graph\n",
       "database                                                             neo4j\n",
       "databaseLocation                                                     local\n",
       "memoryUsage                                                               \n",
       "sizeInBytes                                                             -1\n",
       "nodeCount                                                             1658\n",
       "relationshipCount                                                        0\n",
       "configuration            {'relationshipProjection': {'HAS_ROLE': {'aggr...\n",
       "density                                                                0.0\n",
       "creationTime                           2024-05-28T20:33:51.489454000+00:00\n",
       "modificationTime                       2024-05-28T20:33:51.553327000+00:00\n",
       "schema                   {'graphProperties': {}, 'nodes': {'Skill': {}}...\n",
       "schemaWithOrientation    {'graphProperties': {}, 'nodes': {'Skill': {}}...\n",
       "Name: 0, dtype: object"
      ]
     },
     "execution_count": 26,
     "metadata": {},
     "output_type": "execute_result"
    }
   ],
   "source": [
    "gds.graph.drop(\"skill_graph\")"
   ]
  },
  {
   "cell_type": "code",
   "execution_count": 27,
   "metadata": {},
   "outputs": [],
   "source": [
    "G, result = gds.graph.project(\n",
    "    \"job_graph\",\n",
    "    [\"Job\", \"JobTitle\", \"Company\"],\n",
    "    [\"HAS_ROLE\", \"FOR_COMPANY\"]\n",
    ")"
   ]
  },
  {
   "cell_type": "code",
   "execution_count": 28,
   "metadata": {},
   "outputs": [
    {
     "data": {
      "text/plain": [
       "285"
      ]
     },
     "execution_count": 28,
     "metadata": {},
     "output_type": "execute_result"
    }
   ],
   "source": [
    "G.node_count()"
   ]
  }
 ],
 "metadata": {
  "kernelspec": {
   "display_name": "Python 3.11.6 64-bit",
   "language": "python",
   "name": "python3"
  },
  "language_info": {
   "codemirror_mode": {
    "name": "ipython",
    "version": 3
   },
   "file_extension": ".py",
   "mimetype": "text/x-python",
   "name": "python",
   "nbconvert_exporter": "python",
   "pygments_lexer": "ipython3",
   "version": "3.11.6"
  },
  "orig_nbformat": 4,
  "vscode": {
   "interpreter": {
    "hash": "aee8b7b246df8f9039afb4144a1f6fd8d2ca17a180786b69acc140d282b71a49"
   }
  }
 },
 "nbformat": 4,
 "nbformat_minor": 2
}
